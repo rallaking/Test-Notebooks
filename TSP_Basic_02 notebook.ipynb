{
 "cells": [
  {
   "cell_type": "code",
   "execution_count": null,
   "metadata": {},
   "outputs": [],
   "source": [
    "\"\"\"\n",
    "Created on Sat Jul 29 09:18:18 2017\n",
    "@author: Andres L Dorado\n",
    "\"\"\"\n",
    "import json\n",
    "import math"
   ]
  },
  {
   "cell_type": "code",
   "execution_count": null,
   "metadata": {},
   "outputs": [],
   "source": [
    "# read source file\n",
    "with open( 'tsp_data_02.json' ) as tsp_data:\n",
    "    data = json.load( tsp_data )\n",
    "    \n",
    "#print( data, len( data) )\n",
    "\n",
    "print(json.dumps(data, indent=4, sort_keys=True))"
   ]
  }
